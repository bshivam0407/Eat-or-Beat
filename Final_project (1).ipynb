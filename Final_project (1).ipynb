{
  "nbformat": 4,
  "nbformat_minor": 0,
  "metadata": {
    "colab": {
      "name": "Final_project.ipynb",
      "provenance": [],
      "collapsed_sections": []
    },
    "kernelspec": {
      "name": "python3",
      "display_name": "Python 3"
    }
  },
  "cells": [
    {
      "cell_type": "code",
      "metadata": {
        "id": "enFP-ZzOEHMi",
        "colab_type": "code",
        "colab": {}
      },
      "source": [
        "#importing the packages\n",
        "import pandas as pd\n",
        "import numpy as np\n",
        "import matplotlib.pyplot as plt\n",
        "import random as rand"
      ],
      "execution_count": 0,
      "outputs": []
    },
    {
      "cell_type": "code",
      "metadata": {
        "id": "HmAypS3ly53i",
        "colab_type": "code",
        "outputId": "5887fbba-c428-4e11-b541-c2c98cac9ccf",
        "colab": {
          "base_uri": "https://localhost:8080/",
          "height": 141
        }
      },
      "source": [
        "#Installing library to access Google Firebase\n",
        "!pip install python-firebase\n",
        "\n",
        "\n"
      ],
      "execution_count": 2,
      "outputs": [
        {
          "output_type": "stream",
          "text": [
            "Requirement already satisfied: python-firebase in /usr/local/lib/python3.6/dist-packages (1.2)\n",
            "Requirement already satisfied: requests>=1.1.0 in /usr/local/lib/python3.6/dist-packages (from python-firebase) (2.21.0)\n",
            "Requirement already satisfied: certifi>=2017.4.17 in /usr/local/lib/python3.6/dist-packages (from requests>=1.1.0->python-firebase) (2019.9.11)\n",
            "Requirement already satisfied: chardet<3.1.0,>=3.0.2 in /usr/local/lib/python3.6/dist-packages (from requests>=1.1.0->python-firebase) (3.0.4)\n",
            "Requirement already satisfied: urllib3<1.25,>=1.21.1 in /usr/local/lib/python3.6/dist-packages (from requests>=1.1.0->python-firebase) (1.24.3)\n",
            "Requirement already satisfied: idna<2.9,>=2.5 in /usr/local/lib/python3.6/dist-packages (from requests>=1.1.0->python-firebase) (2.8)\n"
          ],
          "name": "stdout"
        }
      ]
    },
    {
      "cell_type": "code",
      "metadata": {
        "id": "XgtgHC-P0ldT",
        "colab_type": "code",
        "outputId": "3e90f112-4dc0-456c-ac8f-cf97cac3c597",
        "colab": {
          "base_uri": "https://localhost:8080/",
          "height": 355
        }
      },
      "source": [
        "#Creating our virtual data base\n",
        "d = {'Bar Code': [8902579103507, 8901764012907, 8901764022906, 8902576123801, 8902170246811, 8913579135012, 8924510664907, 8902369946913, 8905219182404, 8908647951045], 'Product': ['frooti', 'coke', 'fanta', 'uncle chips', 'lays', 'kurkure', 'noodles', 'pasta','pickle', 'nice time'], 'Calories(kcal)': [130, 88, 104, 300, 280, 340, 1060, 980, 400, 250]}\n",
        "df = pd.DataFrame(data=d)\n",
        "df"
      ],
      "execution_count": 3,
      "outputs": [
        {
          "output_type": "execute_result",
          "data": {
            "text/html": [
              "<div>\n",
              "<style scoped>\n",
              "    .dataframe tbody tr th:only-of-type {\n",
              "        vertical-align: middle;\n",
              "    }\n",
              "\n",
              "    .dataframe tbody tr th {\n",
              "        vertical-align: top;\n",
              "    }\n",
              "\n",
              "    .dataframe thead th {\n",
              "        text-align: right;\n",
              "    }\n",
              "</style>\n",
              "<table border=\"1\" class=\"dataframe\">\n",
              "  <thead>\n",
              "    <tr style=\"text-align: right;\">\n",
              "      <th></th>\n",
              "      <th>Bar Code</th>\n",
              "      <th>Product</th>\n",
              "      <th>Calories(kcal)</th>\n",
              "    </tr>\n",
              "  </thead>\n",
              "  <tbody>\n",
              "    <tr>\n",
              "      <th>0</th>\n",
              "      <td>8902579103507</td>\n",
              "      <td>frooti</td>\n",
              "      <td>130</td>\n",
              "    </tr>\n",
              "    <tr>\n",
              "      <th>1</th>\n",
              "      <td>8901764012907</td>\n",
              "      <td>coke</td>\n",
              "      <td>88</td>\n",
              "    </tr>\n",
              "    <tr>\n",
              "      <th>2</th>\n",
              "      <td>8901764022906</td>\n",
              "      <td>fanta</td>\n",
              "      <td>104</td>\n",
              "    </tr>\n",
              "    <tr>\n",
              "      <th>3</th>\n",
              "      <td>8902576123801</td>\n",
              "      <td>uncle chips</td>\n",
              "      <td>300</td>\n",
              "    </tr>\n",
              "    <tr>\n",
              "      <th>4</th>\n",
              "      <td>8902170246811</td>\n",
              "      <td>lays</td>\n",
              "      <td>280</td>\n",
              "    </tr>\n",
              "    <tr>\n",
              "      <th>5</th>\n",
              "      <td>8913579135012</td>\n",
              "      <td>kurkure</td>\n",
              "      <td>340</td>\n",
              "    </tr>\n",
              "    <tr>\n",
              "      <th>6</th>\n",
              "      <td>8924510664907</td>\n",
              "      <td>noodles</td>\n",
              "      <td>1060</td>\n",
              "    </tr>\n",
              "    <tr>\n",
              "      <th>7</th>\n",
              "      <td>8902369946913</td>\n",
              "      <td>pasta</td>\n",
              "      <td>980</td>\n",
              "    </tr>\n",
              "    <tr>\n",
              "      <th>8</th>\n",
              "      <td>8905219182404</td>\n",
              "      <td>pickle</td>\n",
              "      <td>400</td>\n",
              "    </tr>\n",
              "    <tr>\n",
              "      <th>9</th>\n",
              "      <td>8908647951045</td>\n",
              "      <td>nice time</td>\n",
              "      <td>250</td>\n",
              "    </tr>\n",
              "  </tbody>\n",
              "</table>\n",
              "</div>"
            ],
            "text/plain": [
              "        Bar Code      Product  Calories(kcal)\n",
              "0  8902579103507       frooti             130\n",
              "1  8901764012907         coke              88\n",
              "2  8901764022906        fanta             104\n",
              "3  8902576123801  uncle chips             300\n",
              "4  8902170246811         lays             280\n",
              "5  8913579135012      kurkure             340\n",
              "6  8924510664907      noodles            1060\n",
              "7  8902369946913        pasta             980\n",
              "8  8905219182404       pickle             400\n",
              "9  8908647951045    nice time             250"
            ]
          },
          "metadata": {
            "tags": []
          },
          "execution_count": 3
        }
      ]
    },
    {
      "cell_type": "code",
      "metadata": {
        "id": "EwNLEX4d0ood",
        "colab_type": "code",
        "colab": {}
      },
      "source": [
        "#Importing firebase from the library and then linking the RealTime Database with script.\n",
        "from firebase import firebase\n",
        "firebase = firebase.FirebaseApplication('https://bar-code-89380.firebaseio.com/', None)\n"
      ],
      "execution_count": 0,
      "outputs": []
    },
    {
      "cell_type": "code",
      "metadata": {
        "id": "Y-BHgfOQ2IiZ",
        "colab_type": "code",
        "colab": {}
      },
      "source": [
        "#This function returns the calories corresponding to a barcode of the given food product\n",
        "def food(result):\n",
        "  y=df[df['Bar Code']==int(result)].loc[:, 'Calories(kcal)']\n",
        "  calories=y.iloc[0]\n",
        "  return calories\n",
        "  \n"
      ],
      "execution_count": 0,
      "outputs": []
    },
    {
      "cell_type": "code",
      "metadata": {
        "id": "Y4DZFQqopOHq",
        "colab_type": "code",
        "colab": {}
      },
      "source": [
        "#This function returns the name of product given the corresponding barcode.\n",
        "def product_detector(re):\n",
        "  oi=df[df['Bar Code']==re].iloc[0]['Product']\n",
        "  return(oi)\n",
        "\n"
      ],
      "execution_count": 0,
      "outputs": []
    },
    {
      "cell_type": "code",
      "metadata": {
        "id": "0v8ZIfaZJ7F-",
        "colab_type": "code",
        "colab": {}
      },
      "source": [
        "#This function links barcode to the \n",
        "def check12 (result):\n",
        "  return (food(result))\n",
        "  "
      ],
      "execution_count": 0,
      "outputs": []
    },
    {
      "cell_type": "code",
      "metadata": {
        "id": "HB3O4gPUGHdv",
        "colab_type": "code",
        "colab": {}
      },
      "source": [
        "#This function gives calories burnt during different activities.\n",
        "def work ():\n",
        "  int_work=0\n",
        "  mod_work=0\n",
        "  sim_work=0\n",
        "  choice=rand.randint(1,10)\n",
        "  steps=rand.randint (800,1000)\n",
        "  cal_walking=steps*0.001\n",
        "  if (choice==1):\n",
        "    int_work=rand.uniform (.04,.07)\n",
        "  if (choice==2):\n",
        "    mod_work=rand.uniform(0.02,0.04)\n",
        "  if (choice==3):\n",
        "    sim_work=rand.uniform (0.01,0.02)\n",
        "  return (steps, cal_walking, int_work, mod_work, sim_work)"
      ],
      "execution_count": 0,
      "outputs": []
    },
    {
      "cell_type": "code",
      "metadata": {
        "id": "Nrh6WUL6Mbog",
        "colab_type": "code",
        "colab": {
          "base_uri": "https://localhost:8080/",
          "height": 79
        },
        "outputId": "67f38d4f-47b7-4875-c340-0f7ddcc01c4d"
      },
      "source": [
        "#Initializing our real time data frame\n",
        "data=[]\n",
        "daframe= pd.DataFrame (data=data, columns=['Date', 'Calories_Intake', 'Calories_burnt'])\n",
        "daframe.loc[0]=['20/10/2019']+ [0]+ [0]\n",
        "\n",
        "daframe"
      ],
      "execution_count": 9,
      "outputs": [
        {
          "output_type": "execute_result",
          "data": {
            "text/html": [
              "<div>\n",
              "<style scoped>\n",
              "    .dataframe tbody tr th:only-of-type {\n",
              "        vertical-align: middle;\n",
              "    }\n",
              "\n",
              "    .dataframe tbody tr th {\n",
              "        vertical-align: top;\n",
              "    }\n",
              "\n",
              "    .dataframe thead th {\n",
              "        text-align: right;\n",
              "    }\n",
              "</style>\n",
              "<table border=\"1\" class=\"dataframe\">\n",
              "  <thead>\n",
              "    <tr style=\"text-align: right;\">\n",
              "      <th></th>\n",
              "      <th>Date</th>\n",
              "      <th>Calories_Intake</th>\n",
              "      <th>Calories_burnt</th>\n",
              "    </tr>\n",
              "  </thead>\n",
              "  <tbody>\n",
              "    <tr>\n",
              "      <th>0</th>\n",
              "      <td>20/10/2019</td>\n",
              "      <td>0</td>\n",
              "      <td>0</td>\n",
              "    </tr>\n",
              "  </tbody>\n",
              "</table>\n",
              "</div>"
            ],
            "text/plain": [
              "         Date Calories_Intake Calories_burnt\n",
              "0  20/10/2019               0              0"
            ]
          },
          "metadata": {
            "tags": []
          },
          "execution_count": 9
        }
      ]
    },
    {
      "cell_type": "code",
      "metadata": {
        "id": "cR_G3tLdQB9a",
        "colab_type": "code",
        "colab": {}
      },
      "source": [
        "#This function adds the recently intake calories to the existing calories.\n",
        "def dadd(calories):\n",
        "  r=len(daframe)\n",
        "  daframe.loc[0,'Calories_Intake']=daframe.loc[0, 'Calories_Intake']+calories\n",
        "  print (daframe)\n",
        "\n"
      ],
      "execution_count": 0,
      "outputs": []
    },
    {
      "cell_type": "code",
      "metadata": {
        "id": "eqqaHhMlNkkw",
        "colab_type": "code",
        "colab": {}
      },
      "source": [
        "#This function generates random data which mimics data of a fitband (Virtual fitband).\n",
        "def fitbit():\n",
        "  steps,cal_walking, int_work, mod_work, sim_work=work()\n",
        "  total_burnt=cal_walking+ int_work+ mod_work+ sim_work\n",
        "  daframe.loc[0, 'Calories_burnt']=daframe.loc[0, 'Calories_burnt']+total_burnt\n",
        "  \n"
      ],
      "execution_count": 0,
      "outputs": []
    },
    {
      "cell_type": "code",
      "metadata": {
        "id": "8lmSCbT-uJFq",
        "colab_type": "code",
        "colab": {}
      },
      "source": [
        "#This functions assigns category depending on the range of BMI. \n",
        "def category(bmi):\n",
        "  if bmi<18.5:\n",
        "    return 'Underweight'\n",
        "  if bmi>18.5 and bmi<24.9:\n",
        "    return 'Healthy'\n",
        "  if bmi>24.9:\n",
        "    return 'Overweight'"
      ],
      "execution_count": 0,
      "outputs": []
    },
    {
      "cell_type": "code",
      "metadata": {
        "id": "lPKceiYdhGO_",
        "colab_type": "code",
        "colab": {}
      },
      "source": [
        "#This function decides threshold of every BMI category according to intake calories - burnt calories\n",
        "def diff_to_main (bmi):\n",
        "  t=category(bmi)\n",
        "  diff=0\n",
        "  if (t=='Underweight'):\n",
        "    diff=500 \n",
        "  if (t=='Healthy'):\n",
        "    diff=250\n",
        "  if (t=='Overweight'):\n",
        "    diff=-500\n",
        "  return (diff)\n",
        "\n"
      ],
      "execution_count": 0,
      "outputs": []
    },
    {
      "cell_type": "code",
      "metadata": {
        "id": "GVbd97K5B0YK",
        "colab_type": "code",
        "colab": {
          "base_uri": "https://localhost:8080/",
          "height": 208
        },
        "outputId": "15f5bc65-4fde-455f-f751-4709f494a8d0"
      },
      "source": [
        "#importing the data set for tracking a person's activity\n",
        "!wget --no-check-certificate \\\n",
        "https://raw.githubusercontent.com/shivam2199/DAta_sets/master/Fitbit.csv\n",
        "  "
      ],
      "execution_count": 14,
      "outputs": [
        {
          "output_type": "stream",
          "text": [
            "--2019-10-13 05:23:25--  https://raw.githubusercontent.com/shivam2199/DAta_sets/master/Fitbit.csv\n",
            "Resolving raw.githubusercontent.com (raw.githubusercontent.com)... 151.101.0.133, 151.101.64.133, 151.101.128.133, ...\n",
            "Connecting to raw.githubusercontent.com (raw.githubusercontent.com)|151.101.0.133|:443... connected.\n",
            "HTTP request sent, awaiting response... 200 OK\n",
            "Length: 3274 (3.2K) [text/plain]\n",
            "Saving to: ‘Fitbit.csv.6’\n",
            "\n",
            "\rFitbit.csv.6          0%[                    ]       0  --.-KB/s               \rFitbit.csv.6        100%[===================>]   3.20K  --.-KB/s    in 0s      \n",
            "\n",
            "2019-10-13 05:23:26 (63.0 MB/s) - ‘Fitbit.csv.6’ saved [3274/3274]\n",
            "\n"
          ],
          "name": "stdout"
        }
      ]
    },
    {
      "cell_type": "code",
      "metadata": {
        "id": "U2WeHw28Dx_P",
        "colab_type": "code",
        "colab": {
          "base_uri": "https://localhost:8080/",
          "height": 343
        },
        "outputId": "7cb5540c-7200-45a5-e063-a97ed604a7e2"
      },
      "source": [
        "#Converting the data from CSV to dataframe\n",
        "data1=pd.read_csv('Fitbit.csv.1')\n",
        "sd=pd.DataFrame(data=data1)\n",
        "sd.head()"
      ],
      "execution_count": 15,
      "outputs": [
        {
          "output_type": "execute_result",
          "data": {
            "text/html": [
              "<div>\n",
              "<style scoped>\n",
              "    .dataframe tbody tr th:only-of-type {\n",
              "        vertical-align: middle;\n",
              "    }\n",
              "\n",
              "    .dataframe tbody tr th {\n",
              "        vertical-align: top;\n",
              "    }\n",
              "\n",
              "    .dataframe thead th {\n",
              "        text-align: right;\n",
              "    }\n",
              "</style>\n",
              "<table border=\"1\" class=\"dataframe\">\n",
              "  <thead>\n",
              "    <tr style=\"text-align: right;\">\n",
              "      <th></th>\n",
              "      <th>Day</th>\n",
              "      <th>Calories Burned</th>\n",
              "      <th>Steps</th>\n",
              "      <th>Distance</th>\n",
              "      <th>Minutes Sedentary</th>\n",
              "      <th>Minutes Lightly Active</th>\n",
              "      <th>Minutes Fairly Active</th>\n",
              "      <th>Minutes Very Active</th>\n",
              "      <th>Activity Calories</th>\n",
              "      <th>Minutes Asleep</th>\n",
              "      <th>Minutes Awake</th>\n",
              "      <th>Number of Awakenings</th>\n",
              "      <th>Time in Bed</th>\n",
              "      <th>Minutes REM Sleep</th>\n",
              "      <th>Minutes Light Sleep</th>\n",
              "      <th>Minutes Deep Sleep</th>\n",
              "    </tr>\n",
              "  </thead>\n",
              "  <tbody>\n",
              "    <tr>\n",
              "      <th>0</th>\n",
              "      <td>15-Apr</td>\n",
              "      <td>2128.0</td>\n",
              "      <td>9693.0</td>\n",
              "      <td>4.14</td>\n",
              "      <td>634.0</td>\n",
              "      <td>261.0</td>\n",
              "      <td>3.0</td>\n",
              "      <td>20.0</td>\n",
              "      <td>984.0</td>\n",
              "      <td>403.0</td>\n",
              "      <td>66.0</td>\n",
              "      <td>23.0</td>\n",
              "      <td>469.0</td>\n",
              "      <td>55.0</td>\n",
              "      <td>303.0</td>\n",
              "      <td>45.0</td>\n",
              "    </tr>\n",
              "    <tr>\n",
              "      <th>1</th>\n",
              "      <td>16-Apr</td>\n",
              "      <td>2229.0</td>\n",
              "      <td>9870.0</td>\n",
              "      <td>4.39</td>\n",
              "      <td>691.0</td>\n",
              "      <td>244.0</td>\n",
              "      <td>7.0</td>\n",
              "      <td>29.0</td>\n",
              "      <td>1044.0</td>\n",
              "      <td>428.0</td>\n",
              "      <td>54.0</td>\n",
              "      <td>33.0</td>\n",
              "      <td>482.0</td>\n",
              "      <td>89.0</td>\n",
              "      <td>256.0</td>\n",
              "      <td>83.0</td>\n",
              "    </tr>\n",
              "    <tr>\n",
              "      <th>2</th>\n",
              "      <td>17-Apr</td>\n",
              "      <td>2177.0</td>\n",
              "      <td>11596.0</td>\n",
              "      <td>5.34</td>\n",
              "      <td>686.0</td>\n",
              "      <td>228.0</td>\n",
              "      <td>11.0</td>\n",
              "      <td>33.0</td>\n",
              "      <td>1023.0</td>\n",
              "      <td>410.0</td>\n",
              "      <td>46.0</td>\n",
              "      <td>25.0</td>\n",
              "      <td>456.0</td>\n",
              "      <td>85.0</td>\n",
              "      <td>223.0</td>\n",
              "      <td>102.0</td>\n",
              "    </tr>\n",
              "    <tr>\n",
              "      <th>3</th>\n",
              "      <td>18-Apr</td>\n",
              "      <td>2128.0</td>\n",
              "      <td>10279.0</td>\n",
              "      <td>4.83</td>\n",
              "      <td>725.0</td>\n",
              "      <td>206.0</td>\n",
              "      <td>9.0</td>\n",
              "      <td>44.0</td>\n",
              "      <td>980.0</td>\n",
              "      <td>391.0</td>\n",
              "      <td>55.0</td>\n",
              "      <td>24.0</td>\n",
              "      <td>446.0</td>\n",
              "      <td>58.0</td>\n",
              "      <td>234.0</td>\n",
              "      <td>99.0</td>\n",
              "    </tr>\n",
              "    <tr>\n",
              "      <th>4</th>\n",
              "      <td>19-Apr</td>\n",
              "      <td>2006.0</td>\n",
              "      <td>7942.0</td>\n",
              "      <td>3.32</td>\n",
              "      <td>755.0</td>\n",
              "      <td>197.0</td>\n",
              "      <td>26.0</td>\n",
              "      <td>16.0</td>\n",
              "      <td>833.0</td>\n",
              "      <td>408.0</td>\n",
              "      <td>67.0</td>\n",
              "      <td>26.0</td>\n",
              "      <td>475.0</td>\n",
              "      <td>71.0</td>\n",
              "      <td>263.0</td>\n",
              "      <td>74.0</td>\n",
              "    </tr>\n",
              "  </tbody>\n",
              "</table>\n",
              "</div>"
            ],
            "text/plain": [
              "      Day  Calories Burned  ...  Minutes Light Sleep  Minutes Deep Sleep\n",
              "0  15-Apr           2128.0  ...                303.0                45.0\n",
              "1  16-Apr           2229.0  ...                256.0                83.0\n",
              "2  17-Apr           2177.0  ...                223.0               102.0\n",
              "3  18-Apr           2128.0  ...                234.0                99.0\n",
              "4  19-Apr           2006.0  ...                263.0                74.0\n",
              "\n",
              "[5 rows x 16 columns]"
            ]
          },
          "metadata": {
            "tags": []
          },
          "execution_count": 15
        }
      ]
    },
    {
      "cell_type": "code",
      "metadata": {
        "id": "q4AsTyN-EMZA",
        "colab_type": "code",
        "colab": {
          "base_uri": "https://localhost:8080/",
          "height": 79
        },
        "outputId": "ddd95ccb-2689-4adb-f49b-a5e6b087d389"
      },
      "source": [
        "#Deciding the personal characteristics of a person using his past eating and exercising data obtained by fitband.\n",
        "data1['Calories Burned']=data1['Calories Burned'].astype(int)\n",
        "data1['Steps']=data1['Steps'].astype(int)\n",
        "data1['Minutes Lightly Active']=data1['Minutes Lightly Active'].astype(int)\n",
        "data1['Minutes Fairly Active']=data1['Minutes Fairly Active'].astype(int)\n",
        "data1['Minutes Very Active']=data1['Minutes Very Active'].astype(int)\n",
        "mean_cal_burn=np.mean(data1['Calories Burned'])\n",
        "mean_steps=np.mean(data1['Steps'])\n",
        "mean_mla=np.mean(data1['Minutes Lightly Active'])\n",
        "mean_mma=np.mean(data1['Minutes Fairly Active'])\n",
        "mean_mva=np.mean(data1['Minutes Very Active'])\n",
        "data2={'mean_cal':[mean_cal_burn], 'mean_steps':[mean_steps], 'mean_mla':[mean_mla],'mean_mma': [mean_mma], 'mean_mva': [mean_mva]}\n",
        "rt=pd.DataFrame(data=data2)\n",
        "rt"
      ],
      "execution_count": 16,
      "outputs": [
        {
          "output_type": "execute_result",
          "data": {
            "text/html": [
              "<div>\n",
              "<style scoped>\n",
              "    .dataframe tbody tr th:only-of-type {\n",
              "        vertical-align: middle;\n",
              "    }\n",
              "\n",
              "    .dataframe tbody tr th {\n",
              "        vertical-align: top;\n",
              "    }\n",
              "\n",
              "    .dataframe thead th {\n",
              "        text-align: right;\n",
              "    }\n",
              "</style>\n",
              "<table border=\"1\" class=\"dataframe\">\n",
              "  <thead>\n",
              "    <tr style=\"text-align: right;\">\n",
              "      <th></th>\n",
              "      <th>mean_cal</th>\n",
              "      <th>mean_steps</th>\n",
              "      <th>mean_mla</th>\n",
              "      <th>mean_mma</th>\n",
              "      <th>mean_mva</th>\n",
              "    </tr>\n",
              "  </thead>\n",
              "  <tbody>\n",
              "    <tr>\n",
              "      <th>0</th>\n",
              "      <td>2321.071429</td>\n",
              "      <td>11631.785714</td>\n",
              "      <td>280.607143</td>\n",
              "      <td>31.107143</td>\n",
              "      <td>30.214286</td>\n",
              "    </tr>\n",
              "  </tbody>\n",
              "</table>\n",
              "</div>"
            ],
            "text/plain": [
              "      mean_cal    mean_steps    mean_mla   mean_mma   mean_mva\n",
              "0  2321.071429  11631.785714  280.607143  31.107143  30.214286"
            ]
          },
          "metadata": {
            "tags": []
          },
          "execution_count": 16
        }
      ]
    },
    {
      "cell_type": "code",
      "metadata": {
        "id": "KtSFi9Q_TTP_",
        "colab_type": "code",
        "colab": {
          "base_uri": "https://localhost:8080/",
          "height": 35
        },
        "outputId": "623e8217-fa26-409a-f7e7-ede587b1a7f0"
      },
      "source": [
        "#Defining appropriate range of calorie intake, burnt, steps and exercise using past dataset +(-) error\n",
        "m_cal_r =range(int(0.9*mean_cal_burn),int(1.1*mean_cal_burn))\n",
        "m_step_r=range(int(0.9*mean_steps), int(1.1*mean_steps))\n",
        "m_mla_r=range (int(0.9*mean_mla), int(1.1*mean_mla))\n",
        "m_mma_r=range(int(0.9*mean_mma), int(1.1*mean_mma))\n",
        "m_mva_r=range(int(0.9*mean_mva), int(1.1*mean_mva))\n",
        "m_cal_r"
      ],
      "execution_count": 17,
      "outputs": [
        {
          "output_type": "execute_result",
          "data": {
            "text/plain": [
              "range(2088, 2553)"
            ]
          },
          "metadata": {
            "tags": []
          },
          "execution_count": 17
        }
      ]
    },
    {
      "cell_type": "code",
      "metadata": {
        "id": "QdF3YUhkTej-",
        "colab_type": "code",
        "colab": {}
      },
      "source": [
        "#This function decides whether the person should eat or discard the food item according to the conditions specifies before.\n",
        "def can_I_eat (re,bmi):\n",
        "  range2=diff_to_main(bmi)\n",
        "  g=check12(re)\n",
        "  if (g+daframe.loc[0, 'Calories_Intake']) > int(1.1*mean_cal_burn):\n",
        "    return 'No you cannot eat it'\n",
        "  else:\n",
        "    m= daframe.loc[0, 'Calories_Intake']- daframe.loc[0, 'Calories_burnt']+g\n",
        "    print (m)\n",
        "    if m<range2:\n",
        "      dadd(g)\n",
        "      print (daframe)\n",
        "      return 'Yes You can eat'\n",
        "    else:\n",
        "      return 'No you cannot eat it'\n",
        "  \n",
        "\n"
      ],
      "execution_count": 0,
      "outputs": []
    },
    {
      "cell_type": "code",
      "metadata": {
        "id": "vsi7ZrlHTTuu",
        "colab_type": "code",
        "colab": {
          "base_uri": "https://localhost:8080/",
          "height": 208
        },
        "outputId": "7cfbed19-26ac-4b85-e4e5-0a4bf8f7744f"
      },
      "source": [
        "!wget --no-check-certificate \\\n",
        "https://raw.githubusercontent.com/shivam2199/DAta_sets/master/Char_Sheet3"
      ],
      "execution_count": 19,
      "outputs": [
        {
          "output_type": "stream",
          "text": [
            "--2019-10-13 05:23:47--  https://raw.githubusercontent.com/shivam2199/DAta_sets/master/Char_Sheet3\n",
            "Resolving raw.githubusercontent.com (raw.githubusercontent.com)... 151.101.0.133, 151.101.64.133, 151.101.128.133, ...\n",
            "Connecting to raw.githubusercontent.com (raw.githubusercontent.com)|151.101.0.133|:443... connected.\n",
            "HTTP request sent, awaiting response... 200 OK\n",
            "Length: 480 [text/plain]\n",
            "Saving to: ‘Char_Sheet3.6’\n",
            "\n",
            "\rChar_Sheet3.6         0%[                    ]       0  --.-KB/s               \rChar_Sheet3.6       100%[===================>]     480  --.-KB/s    in 0s      \n",
            "\n",
            "2019-10-13 05:23:47 (82.7 MB/s) - ‘Char_Sheet3.6’ saved [480/480]\n",
            "\n"
          ],
          "name": "stdout"
        }
      ]
    },
    {
      "cell_type": "code",
      "metadata": {
        "id": "jUGLhZ67TUKS",
        "colab_type": "code",
        "colab": {
          "base_uri": "https://localhost:8080/",
          "height": 355
        },
        "outputId": "745fc27c-92a8-4c62-9a20-0821ae1edaa6"
      },
      "source": [
        "#A data set for different edible products\n",
        "health=pd.read_csv('Char_Sheet3')\n",
        "fg=pd.DataFrame(data=health)\n",
        "fg"
      ],
      "execution_count": 20,
      "outputs": [
        {
          "output_type": "execute_result",
          "data": {
            "text/html": [
              "<div>\n",
              "<style scoped>\n",
              "    .dataframe tbody tr th:only-of-type {\n",
              "        vertical-align: middle;\n",
              "    }\n",
              "\n",
              "    .dataframe tbody tr th {\n",
              "        vertical-align: top;\n",
              "    }\n",
              "\n",
              "    .dataframe thead th {\n",
              "        text-align: right;\n",
              "    }\n",
              "</style>\n",
              "<table border=\"1\" class=\"dataframe\">\n",
              "  <thead>\n",
              "    <tr style=\"text-align: right;\">\n",
              "      <th></th>\n",
              "      <th>Bar Code</th>\n",
              "      <th>Product</th>\n",
              "      <th>Category</th>\n",
              "      <th>Calories</th>\n",
              "      <th>Sugar</th>\n",
              "      <th>Trans Fat</th>\n",
              "      <th>Total Fat</th>\n",
              "    </tr>\n",
              "  </thead>\n",
              "  <tbody>\n",
              "    <tr>\n",
              "      <th>0</th>\n",
              "      <td>8902579103507</td>\n",
              "      <td>Frooti</td>\n",
              "      <td>Beverage</td>\n",
              "      <td>130</td>\n",
              "      <td>22.0</td>\n",
              "      <td>0.0</td>\n",
              "      <td>0.0</td>\n",
              "    </tr>\n",
              "    <tr>\n",
              "      <th>1</th>\n",
              "      <td>8901764012907</td>\n",
              "      <td>Coke</td>\n",
              "      <td>Beverage</td>\n",
              "      <td>88</td>\n",
              "      <td>26.0</td>\n",
              "      <td>0.0</td>\n",
              "      <td>0.0</td>\n",
              "    </tr>\n",
              "    <tr>\n",
              "      <th>2</th>\n",
              "      <td>8901764022906</td>\n",
              "      <td>Fanta</td>\n",
              "      <td>Beverage</td>\n",
              "      <td>104</td>\n",
              "      <td>26.6</td>\n",
              "      <td>0.0</td>\n",
              "      <td>0.0</td>\n",
              "    </tr>\n",
              "    <tr>\n",
              "      <th>3</th>\n",
              "      <td>8902576123801</td>\n",
              "      <td>Uncle Chips</td>\n",
              "      <td>Snacks</td>\n",
              "      <td>300</td>\n",
              "      <td>1.4</td>\n",
              "      <td>0.1</td>\n",
              "      <td>37.5</td>\n",
              "    </tr>\n",
              "    <tr>\n",
              "      <th>4</th>\n",
              "      <td>8902170246811</td>\n",
              "      <td>Lays</td>\n",
              "      <td>Snacks</td>\n",
              "      <td>280</td>\n",
              "      <td>6.0</td>\n",
              "      <td>0.0</td>\n",
              "      <td>14.0</td>\n",
              "    </tr>\n",
              "    <tr>\n",
              "      <th>5</th>\n",
              "      <td>8913579135012</td>\n",
              "      <td>Kurkure</td>\n",
              "      <td>Snacks</td>\n",
              "      <td>340</td>\n",
              "      <td>2.0</td>\n",
              "      <td>0.0</td>\n",
              "      <td>20.0</td>\n",
              "    </tr>\n",
              "    <tr>\n",
              "      <th>6</th>\n",
              "      <td>8924510664907</td>\n",
              "      <td>Noodles</td>\n",
              "      <td>Heavy</td>\n",
              "      <td>1060</td>\n",
              "      <td>1.0</td>\n",
              "      <td>0.1</td>\n",
              "      <td>1.5</td>\n",
              "    </tr>\n",
              "    <tr>\n",
              "      <th>7</th>\n",
              "      <td>8902369946913</td>\n",
              "      <td>Pasta</td>\n",
              "      <td>Heavy</td>\n",
              "      <td>980</td>\n",
              "      <td>2.0</td>\n",
              "      <td>0.0</td>\n",
              "      <td>4.0</td>\n",
              "    </tr>\n",
              "    <tr>\n",
              "      <th>8</th>\n",
              "      <td>8905219182404</td>\n",
              "      <td>Pickle</td>\n",
              "      <td>Heavy</td>\n",
              "      <td>400</td>\n",
              "      <td>12.0</td>\n",
              "      <td>1.0</td>\n",
              "      <td>38.0</td>\n",
              "    </tr>\n",
              "    <tr>\n",
              "      <th>9</th>\n",
              "      <td>8908647951045</td>\n",
              "      <td>Nice Time</td>\n",
              "      <td>Snacks</td>\n",
              "      <td>250</td>\n",
              "      <td>2.0</td>\n",
              "      <td>0.0</td>\n",
              "      <td>20.0</td>\n",
              "    </tr>\n",
              "  </tbody>\n",
              "</table>\n",
              "</div>"
            ],
            "text/plain": [
              "        Bar Code      Product  Category  Calories  Sugar  Trans Fat  Total Fat\n",
              "0  8902579103507       Frooti  Beverage       130   22.0        0.0        0.0\n",
              "1  8901764012907         Coke  Beverage        88   26.0        0.0        0.0\n",
              "2  8901764022906        Fanta  Beverage       104   26.6        0.0        0.0\n",
              "3  8902576123801  Uncle Chips    Snacks       300    1.4        0.1       37.5\n",
              "4  8902170246811         Lays    Snacks       280    6.0        0.0       14.0\n",
              "5  8913579135012      Kurkure    Snacks       340    2.0        0.0       20.0\n",
              "6  8924510664907      Noodles     Heavy      1060    1.0        0.1        1.5\n",
              "7  8902369946913        Pasta     Heavy       980    2.0        0.0        4.0\n",
              "8  8905219182404       Pickle     Heavy       400   12.0        1.0       38.0\n",
              "9  8908647951045    Nice Time    Snacks       250    2.0        0.0       20.0"
            ]
          },
          "metadata": {
            "tags": []
          },
          "execution_count": 20
        }
      ]
    },
    {
      "cell_type": "code",
      "metadata": {
        "id": "AdaVjhw1TWwN",
        "colab_type": "code",
        "colab": {}
      },
      "source": [
        "#Defines the Category of the food item i.e. snacks, beverages etc\n",
        "def category_definer(re):\n",
        "  oi=fg[fg['Bar Code']==re].iloc[0]['Category']\n",
        "  return oi\n",
        "  "
      ],
      "execution_count": 0,
      "outputs": []
    },
    {
      "cell_type": "code",
      "metadata": {
        "id": "2H5RcLDDnJzy",
        "colab_type": "code",
        "colab": {}
      },
      "source": [
        "#Suggesting an alternative to the user's choice of food which will be better for his health.\n",
        "def suggestion(re):\n",
        "  category = category_definer(re)\n",
        "  u23=np.min(fg[fg['Category']==category]['Product'])\n",
        "  a=np.min(fg[fg['Bar Code']==re]['Product'])\n",
        "  if u23==a:\n",
        "    return \"Stay Hungry :P\"\n",
        "  return \"Tip: You can try {}\".format(u23)"
      ],
      "execution_count": 0,
      "outputs": []
    },
    {
      "cell_type": "code",
      "metadata": {
        "id": "2RwOjch6odGw",
        "colab_type": "code",
        "colab": {}
      },
      "source": [
        "#This function is used to identify if the string received exists in the database.\n",
        "def speechCheck(result):\n",
        "    found=df[df['Product'].str.contains(result)]\n",
        "    if (len(found)>0):\n",
        "      g=df[df['Product']==result]['Bar Code']\n",
        "      c=g.values.reshape(1,1)\n",
        "      return int(c[0])\n",
        "    else:\n",
        "      return 'Does not exist'\n",
        "\n",
        "  "
      ],
      "execution_count": 0,
      "outputs": []
    },
    {
      "cell_type": "code",
      "metadata": {
        "id": "aYVShN4MTMSq",
        "colab_type": "code",
        "outputId": "06437b82-580a-4815-fefa-c7cd47c5070c",
        "colab": {
          "base_uri": "https://localhost:8080/",
          "height": 208
        }
      },
      "source": [
        "#This function is the main function which uses the above functions and give output to app.\n",
        "\n",
        "i=0\n",
        "while True:\n",
        "  if (i%10000000):\n",
        "    fitbit()\n",
        "  i=i+1\n",
        "  check = firebase.get('/message/users/ifDetectedSend0', None)\n",
        "  speechA = firebase.get('/message/users/trueForSpeech', None)\n",
        "  if check==1:\n",
        "    if speechA == False:\n",
        "      result = firebase.get('/message/users/productId', None)\n",
        "      firebase.put('/message/users','ifDetectedSend0',0)\n",
        "      bmi=firebase.get ('/message/users/bmi', None)\n",
        "\n",
        "      g=can_I_eat (result, bmi)\n",
        "      firebase.put ('/message/users', 'outMessage',g)\n",
        "      d1=suggestion(int(result))\n",
        "      firebase.put ('/message/users', 'suggestion', d1)\n",
        "    else:\n",
        "      bmi=firebase.get ('/message/users/bmi', None)\n",
        "      result = firebase.get('/message/users/speech', None)\n",
        "      check1=speechCheck(result)\n",
        "      if (check1=='Does not exist'):\n",
        "        firebase.put ('/message/users', 'outMessage','Does not exist')\n",
        "        firebase.put ('/message/users', 'suggestion', 'Suggestion:None')\n",
        "      else:\n",
        "        g=can_I_eat (check1, bmi)\n",
        "        firebase.put ('/message/users', 'outMessage',g)\n",
        "        d1=suggestion(int(check1))\n",
        "        firebase.put ('/message/users', 'suggestion', d1)\n",
        "\n",
        "        firebase.put('/message/users','ifDetectedSend0',0)\n",
        "        \n",
        "        \n"
      ],
      "execution_count": 0,
      "outputs": [
        {
          "output_type": "stream",
          "text": [
            "33.42923142663737\n",
            "         Date Calories_Intake Calories_burnt\n",
            "0  20/10/2019             130        96.5708\n",
            "         Date Calories_Intake Calories_burnt\n",
            "0  20/10/2019             130        96.5708\n",
            "45.48119549853493\n",
            "         Date Calories_Intake Calories_burnt\n",
            "0  20/10/2019             234        188.519\n",
            "         Date Calories_Intake Calories_burnt\n",
            "0  20/10/2019             234        188.519\n",
            "272.051292717518\n"
          ],
          "name": "stdout"
        }
      ]
    },
    {
      "cell_type": "code",
      "metadata": {
        "id": "lx6o4ZJsY2SY",
        "colab_type": "code",
        "colab": {}
      },
      "source": [
        ""
      ],
      "execution_count": 0,
      "outputs": []
    }
  ]
}